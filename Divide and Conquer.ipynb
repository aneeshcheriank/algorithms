{
 "cells": [
  {
   "cell_type": "markdown",
   "id": "3ad8f8ae",
   "metadata": {},
   "source": [
    "## Divide and Conquer\n",
    "- problem\n",
    "    - divide into non-overlapping subporblems\n",
    "    - sub problems that are of same type\n",
    "    - solve each sub-problems\n",
    "    - combine the result to solve the total problem\n",
    "    - <b>recursive problem</b>"
   ]
  },
  {
   "cell_type": "markdown",
   "id": "e1fee18f",
   "metadata": {},
   "source": [
    "## Linera search recursion\n",
    "- a list of elements need to find a given element"
   ]
  },
  {
   "cell_type": "code",
   "execution_count": 10,
   "id": "84b2f9a0",
   "metadata": {},
   "outputs": [
    {
     "data": {
      "text/plain": [
       "2"
      ]
     },
     "execution_count": 10,
     "metadata": {},
     "output_type": "execute_result"
    }
   ],
   "source": [
    "lst = [1, 2, 3, 4, 5, 7, 9, 21, 34]\n",
    "low = 0\n",
    "high = 9\n",
    "key = 3\n",
    "\n",
    "def LinearSearch(lst, low, high, key):\n",
    "    if low >= high:\n",
    "        return 'NOT_FOUND'\n",
    "    elif lst[low] == key:\n",
    "        return low\n",
    "    return LinearSearch(lst, low+1, high, key)\n",
    "\n",
    "LinearSearch(lst, low, high, key)"
   ]
  },
  {
   "cell_type": "code",
   "execution_count": 20,
   "id": "6b3ce041",
   "metadata": {},
   "outputs": [
    {
     "name": "stdout",
     "output_type": "stream",
     "text": [
      "4\n",
      "1\n",
      "0\n"
     ]
    },
    {
     "data": {
      "text/plain": [
       "0"
      ]
     },
     "execution_count": 20,
     "metadata": {},
     "output_type": "execute_result"
    }
   ],
   "source": [
    "def BinarySearch(lst, low, high, key):\n",
    "    \n",
    "    # the key is not in the array\n",
    "    # the location to insert the key\n",
    "    if high < low:\n",
    "        return f'NOT_FOUND: {low}'\n",
    "    \n",
    "    middle = low + (high-low)//2\n",
    "    print(middle)\n",
    "    \n",
    "    if lst[middle] == key:\n",
    "        return middle\n",
    "    elif lst[middle] > key:\n",
    "        return BinarySearch(lst, low, middle-1, key)\n",
    "    else:\n",
    "        return BinarySearch(lst, middle+1, high, key)\n",
    "\n",
    "BinarySearch(lst, low, high, 1)\n",
    "# time complexity: O(log(n))"
   ]
  },
  {
   "cell_type": "markdown",
   "id": "9cb4fb3f",
   "metadata": {},
   "source": [
    "## polinomial multiplication\n",
    "- product of 3x<sup>2</sup>+2x+5 and 7x<sup>2</sup>+3x+2"
   ]
  },
  {
   "cell_type": "code",
   "execution_count": 27,
   "id": "a891642d",
   "metadata": {},
   "outputs": [
    {
     "data": {
      "text/plain": [
       "[21, 23, 47, 19, 10]"
      ]
     },
     "execution_count": 27,
     "metadata": {},
     "output_type": "execute_result"
    }
   ],
   "source": [
    "## naive algorithm\n",
    "a = (3, 2, 5)\n",
    "b = (7, 3, 2)\n",
    "\n",
    "def product(a, b):\n",
    "    l = len(a)\n",
    "    \n",
    "    prod_array = [0 for _ in range(1, 2*l)]\n",
    "    \n",
    "    for i in range(l):\n",
    "        for j in range(l):\n",
    "            \n",
    "            prod_array[i+j] = prod_array[i+j] + a[i]*b[j]\n",
    "    return prod_array\n",
    "\n",
    "product(a, b)"
   ]
  },
  {
   "cell_type": "code",
   "execution_count": null,
   "id": "224546ec",
   "metadata": {},
   "outputs": [],
   "source": []
  }
 ],
 "metadata": {
  "kernelspec": {
   "display_name": "Python 3 (ipykernel)",
   "language": "python",
   "name": "python3"
  },
  "language_info": {
   "codemirror_mode": {
    "name": "ipython",
    "version": 3
   },
   "file_extension": ".py",
   "mimetype": "text/x-python",
   "name": "python",
   "nbconvert_exporter": "python",
   "pygments_lexer": "ipython3",
   "version": "3.10.12"
  }
 },
 "nbformat": 4,
 "nbformat_minor": 5
}
