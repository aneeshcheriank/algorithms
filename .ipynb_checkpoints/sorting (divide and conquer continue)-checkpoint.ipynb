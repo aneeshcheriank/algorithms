{
 "cells": [
  {
   "cell_type": "markdown",
   "id": "045ab5e7",
   "metadata": {},
   "source": [
    "## selection sort\n",
    "- find the minimum element\n",
    "- place it at the begining of the array"
   ]
  },
  {
   "cell_type": "code",
   "execution_count": 2,
   "id": "e5565a14",
   "metadata": {},
   "outputs": [
    {
     "data": {
      "text/plain": [
       "[1, 4, 6, 12, 23, 56, 78]"
      ]
     },
     "execution_count": 2,
     "metadata": {},
     "output_type": "execute_result"
    }
   ],
   "source": [
    "def selection_sort(lst):\n",
    "    n = len(lst)\n",
    "    \n",
    "    for i in range(n):\n",
    "        min_index = i\n",
    "        for j in range(i+1, n):\n",
    "            \n",
    "            # find the minimum element in the list\n",
    "            if lst[j] < lst[min_index]:\n",
    "                min_index = j\n",
    "                \n",
    "        # swap the elements\n",
    "        temp = lst[i]\n",
    "        lst[i] = lst[min_index]\n",
    "        lst[min_index] = temp\n",
    "        \n",
    "    return lst\n",
    "        \n",
    "lst = [12, 4, 6, 1, 56, 78, 23]\n",
    "selection_sort(lst)"
   ]
  },
  {
   "cell_type": "markdown",
   "id": "55f7980e",
   "metadata": {},
   "source": [
    "- time complexity: O(n<sup>2</sup>)"
   ]
  },
  {
   "cell_type": "markdown",
   "id": "fdd043ef",
   "metadata": {},
   "source": [
    "## merge sort"
   ]
  },
  {
   "cell_type": "code",
   "execution_count": 13,
   "id": "abb33658",
   "metadata": {},
   "outputs": [
    {
     "name": "stdout",
     "output_type": "stream",
     "text": [
      "A: [4]\n",
      "B: [6]\n",
      "lst: [4, 6]\n",
      "___________\n",
      "A: [1]\n",
      "B: [4, 6]\n",
      "lst: [1, 4, 6]\n",
      "___________\n",
      "A: [12]\n",
      "B: [23]\n",
      "lst: [12, 23]\n",
      "___________\n",
      "A: [56]\n",
      "B: [78]\n",
      "lst: [56, 78]\n",
      "___________\n",
      "A: [12, 23]\n",
      "B: [56, 78]\n",
      "lst: [12, 23, 56, 78]\n",
      "___________\n",
      "A: [1, 4, 6]\n",
      "B: [12, 23, 56, 78]\n",
      "lst: [1, 4, 6, 12, 23, 56, 78]\n",
      "___________\n"
     ]
    },
    {
     "data": {
      "text/plain": [
       "[1, 4, 6, 12, 23, 56, 78]"
      ]
     },
     "execution_count": 13,
     "metadata": {},
     "output_type": "execute_result"
    }
   ],
   "source": [
    "def merge_sort(lst):\n",
    "    n = len(lst)\n",
    "    if n == 1:\n",
    "        return lst\n",
    "    \n",
    "    half = n//2\n",
    "    A = merge_sort(lst[:half])\n",
    "    B = merge_sort(lst[half:])\n",
    "    \n",
    "    result = merge(A, B)\n",
    "    return result\n",
    "\n",
    "def merge(A, B):\n",
    "    print(f'A: {A}')\n",
    "    print(f'B: {B}')\n",
    "    lst = []\n",
    "    while len(A) != 0 and len(B) != 0:\n",
    "    \n",
    "        if A[0] <= B[0]:\n",
    "            lst.append(A[0])\n",
    "            A.remove(A[0])\n",
    "            \n",
    "        else:\n",
    "            lst.append(B[0])\n",
    "            B.remove(B[0])\n",
    "            \n",
    "    if len(A) != 0:\n",
    "        lst.extend(A)\n",
    "    else:\n",
    "        lst.extend(B)\n",
    "        \n",
    "    print(f'lst: {lst}')\n",
    "    print('___________')\n",
    "            \n",
    "    return lst\n",
    "\n",
    "merge_sort(lst)\n",
    "    "
   ]
  },
  {
   "cell_type": "code",
   "execution_count": null,
   "id": "f7130676",
   "metadata": {},
   "outputs": [],
   "source": []
  }
 ],
 "metadata": {
  "kernelspec": {
   "display_name": "Python 3 (ipykernel)",
   "language": "python",
   "name": "python3"
  },
  "language_info": {
   "codemirror_mode": {
    "name": "ipython",
    "version": 3
   },
   "file_extension": ".py",
   "mimetype": "text/x-python",
   "name": "python",
   "nbconvert_exporter": "python",
   "pygments_lexer": "ipython3",
   "version": "3.10.12"
  }
 },
 "nbformat": 4,
 "nbformat_minor": 5
}
